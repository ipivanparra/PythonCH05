{
 "cells": [
  {
   "cell_type": "code",
   "execution_count": 46,
   "metadata": {},
   "outputs": [
    {
     "name": "stdout",
     "output_type": "stream",
     "text": [
      "3 5 7 9 11 13 15 17 19 21 23 25 27 29 31 33 35 "
     ]
    }
   ],
   "source": [
    "import random\n",
    "test = random.randint(0,50)\n",
    "\n",
    "for num in range(test): \n",
    "    if num > 1:\n",
    "        if  num % 2 == 0:\n",
    "            continue\n",
    "        else: \n",
    "            print(num, end=\" \")"
   ]
  },
  {
   "cell_type": "code",
   "execution_count": 125,
   "metadata": {},
   "outputs": [
    {
     "name": "stdout",
     "output_type": "stream",
     "text": [
      "True\n"
     ]
    }
   ],
   "source": [
    "import random\n",
    "n = random.randint(0,90)\n",
    "\n",
    "if n > 1:\n",
    "    if n % 2 == 0:\n",
    "            print(\"False\")\n",
    "    else: \n",
    "        print(\"True\")\n",
    "else: \n",
    "     print(\"Iuput a value greater than 1\")"
   ]
  },
  {
   "cell_type": "code",
   "execution_count": null,
   "metadata": {},
   "outputs": [],
   "source": [
    "import random\n",
    "test = random.randint(0,80)\n",
    "\n",
    "for n in range(test): \n",
    "        if n > 1:\n",
    "            if  n % 2 == 0:\n",
    "                continue\n",
    "            else: \n",
    "                print(\"True\")\n",
    "                return n\n",
    "                 \n",
    "\n"
   ]
  },
  {
   "cell_type": "code",
   "execution_count": 134,
   "metadata": {},
   "outputs": [],
   "source": [
    "def main ():\n",
    "    returned_lambda = gen_lambda(10, \"even\")\n",
    "    returned_lambda([1, 2, 3, 4, 5, 6, 7, 8, 9, 10])\n",
    "\n",
    "\n",
    "def gen_lambda(number, criteria):\n",
    "    if criteria == \"even\":\n",
    "        return lambda lst: [x for x in lst if x % 2 == 0]\n",
    "\n"
   ]
  },
  {
   "cell_type": "code",
   "execution_count": 150,
   "metadata": {},
   "outputs": [
    {
     "ename": "TypeError",
     "evalue": "type 'int' is not subscriptable",
     "output_type": "error",
     "traceback": [
      "\u001b[1;31m---------------------------------------------------------------------------\u001b[0m",
      "\u001b[1;31mTypeError\u001b[0m                                 Traceback (most recent call last)",
      "Cell \u001b[1;32mIn[150], line 1\u001b[0m\n\u001b[1;32m----> 1\u001b[0m test \u001b[38;5;241m=\u001b[39m \u001b[38;5;28;43mint\u001b[39;49m\u001b[43m[\u001b[49m\u001b[38;5;241;43m15\u001b[39;49m\u001b[43m,\u001b[49m\u001b[38;5;241;43m3\u001b[39;49m\u001b[43m,\u001b[49m\u001b[38;5;241;43m8\u001b[39;49m\u001b[43m,\u001b[49m\u001b[38;5;241;43m45\u001b[39;49m\u001b[43m,\u001b[49m\u001b[38;5;241;43m17\u001b[39;49m\u001b[43m,\u001b[49m\u001b[38;5;241;43m23\u001b[39;49m\u001b[43m]\u001b[49m\n\u001b[0;32m      4\u001b[0m \u001b[38;5;28;01mfor\u001b[39;00m num \u001b[38;5;129;01min\u001b[39;00m \u001b[38;5;28mrange\u001b[39m(test):\n\u001b[0;32m      5\u001b[0m     \u001b[38;5;28mmax\u001b[39m \u001b[38;5;241m=\u001b[39m \u001b[38;5;241m15\u001b[39m\n",
      "\u001b[1;31mTypeError\u001b[0m: type 'int' is not subscriptable"
     ]
    }
   ],
   "source": [
    "test = int[15,3,8,45,17,23]\n",
    "\n",
    "\n",
    "for num in \n",
    "    if num > max:\n",
    "        print(test)\n",
    "\n"
   ]
  },
  {
   "cell_type": "code",
   "execution_count": null,
   "metadata": {},
   "outputs": [],
   "source": [
    "Make a function that receives a list of numbers and returns the second largest number in the list."
   ]
  }
 ],
 "metadata": {
  "kernelspec": {
   "display_name": "Python 3",
   "language": "python",
   "name": "python3"
  },
  "language_info": {
   "codemirror_mode": {
    "name": "ipython",
    "version": 3
   },
   "file_extension": ".py",
   "mimetype": "text/x-python",
   "name": "python",
   "nbconvert_exporter": "python",
   "pygments_lexer": "ipython3",
   "version": "3.12.7"
  }
 },
 "nbformat": 4,
 "nbformat_minor": 2
}
