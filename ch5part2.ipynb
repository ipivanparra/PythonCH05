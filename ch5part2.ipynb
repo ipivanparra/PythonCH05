{
 "cells": [
  {
   "cell_type": "markdown",
   "metadata": {},
   "source": [
    "<style>\n",
    "\th1 {\n",
    "\t--\tbackground-color: grey;\n",
    "\t\tcolor: yellow\n",
    "\t\tborder: 3px solid grey\n",
    "\n",
    "\t}\n",
    "\tp {\n",
    "\t\tbackground-color: grey;\n",
    "\t\tcolor: white\n",
    "\t\tborder: 3px solid grey\n",
    "\n",
    "\t}\n",
    "</style>\n",
    "<h1> Chapter 5 Functions</h1>"
   ]
  },
  {
   "cell_type": "markdown",
   "metadata": {},
   "source": [
    "***\n",
    "\n",
    "## <p style=\"background-color: grey; color: white \"> ◼️  Storing Functions in Modules </p>\n",
    "# <p style=\"font-family: Arial; font-size:1.4em;color:red;\"> 7. Storing Functions in Modules </p>\n"
   ]
  },
  {
   "cell_type": "markdown",
   "metadata": {},
   "source": [
    "<img src=\"./images/image71.png\" alt=\"Storing Function in modules\" width=\"50%\">\n"
   ]
  },
  {
   "cell_type": "markdown",
   "metadata": {},
   "source": [
    "***"
   ]
  },
  {
   "cell_type": "markdown",
   "metadata": {},
   "source": [
    "#### <p style=\"font-family: Arial; font-size:1.4em; background-color: yellow; color:black;\"> Problem #7.0 </p>\n",
    "\n",
    "#### Run all the cells and figure out the results of the code"
   ]
  },
  {
   "cell_type": "markdown",
   "metadata": {},
   "source": [
    "### Create a new file as mymodule.py\n",
    "#### And define your functions in the file\n",
    "```\n",
    "def func1():\n",
    "    print(\"This is func1\")\n",
    "```\n",
    "\n",
    "### Now, let's use the function in the module\n",
    "```\n",
    "from mymodule import func1\n",
    "func1()\n",
    "```"
   ]
  },
  {
   "cell_type": "code",
   "execution_count": 2,
   "metadata": {},
   "outputs": [
    {
     "name": "stdout",
     "output_type": "stream",
     "text": [
      "This is func1\n",
      "This is func2\n",
      "This is func3\n"
     ]
    }
   ],
   "source": [
    "from mymodule import func1, func2, func3\n",
    "func1()\n",
    "func2()\n",
    "func3()\n",
    "\n",
    "## Completed "
   ]
  },
  {
   "cell_type": "markdown",
   "metadata": {},
   "source": [
    "***"
   ]
  },
  {
   "cell_type": "markdown",
   "metadata": {},
   "source": [
    "### <p style=\"font-family: Arial; font-size:1.4em; background-color: yellow; color:black;\"> Problem #7.1 </p>\n",
    "\n",
    "###Create a new file as primemodule.py that includes the following functions:\n",
    "- is_prime(n): returns True if n is a prime number, False otherwise\n",
    "- print_primes(n): prints all prime numbers less than n\n",
    "- get_primes(n): returns a list of all prime numbers less than n\n",
    "\n",
    "\n",
    "### Now, let's use the functions in the module, for example, in the main function \n",
    "```\n",
    "from primemodule import is_prime, print_primes, get_primes\n",
    "is_prime(10)\n",
    "print_primes(10)\n",
    "get_primes(10)\n",
    "```"
   ]
  },
  {
   "cell_type": "code",
   "execution_count": 37,
   "metadata": {},
   "outputs": [
    {
     "name": "stdout",
     "output_type": "stream",
     "text": [
      "False\n",
      "3 5 7 9 11 13 15 17 19 21 23 25 27 29 31 33 35 37 39 41 43 45 47 49 51 "
     ]
    },
    {
     "data": {
      "text/plain": [
       "21"
      ]
     },
     "execution_count": 37,
     "metadata": {},
     "output_type": "execute_result"
    }
   ],
   "source": [
    "from primemodule import is_prime, print_primes, get_primes\n",
    "is_prime()\n",
    "print_primes()\n",
    "get_primes()\n",
    "\n",
    "## Completed "
   ]
  },
  {
   "cell_type": "markdown",
   "metadata": {},
   "source": [
    "### <p style=\"font-family: Arial; font-size:1.4em; background-color: yellow; color:black;\"> Problem #7.2 </p>\n",
    "\n",
    "#### Make a function gen_lambda(number, criteria) that returns a lambda function that takes a list of numbers based on the parameter number and criteria. \n",
    "#### The criteria is one of the following:\n",
    "- \"even\": the lambda function returns the even numbers in the list\n",
    "- \"odd\": the lambda function returns the odd numbers in the list\n",
    "- \"positive\": the lambda function returns the positive numbers in the list\n",
    "- \"negative\": the lambda function returns the negative numbers in the list\n",
    "- \"zero\": the lambda function returns the number of zero numbers in the list\n",
    "\n",
    "### Now, let's use the functions in the module, for example, in the main function \n",
    "```\n",
    "even_lambda = gen_lambda(10, \"even\")\n",
    "even_lambda([1, 2, 3, 4, 5, 6, 7, 8, 9, 10])\n",
    "- it will return [2, 4, 6, 8, 10]\n",
    "\n",
    "positive_lambda = gen_lambda(10, \"positive\")\n",
    "positive_lambda([1, 2, 3, 4, 5, 6, 7, 8, 9, 10])\n",
    "- it will return [1, 2, 3, 4, 5, 6, 7, 8, 9, 10]\n",
    "\n",
    "negative_lambda = gen_lambda(10, \"negative\")\n",
    "negative_lambda([1, 2, 3, 4, 5, 6, 7, 8, 9, 10])\n",
    "- it will return []\n",
    "\n",
    "zero_lambda = gen_lambda(10, \"zero\")\n",
    "zero_lambda([1, 2, 3, 4, 0, 0, 7, 8, 9, 0])\n",
    "- it will return 3\n",
    "```"
   ]
  },
  {
   "cell_type": "markdown",
   "metadata": {},
   "source": [
    "### Complete the code to run the main function"
   ]
  },
  {
   "cell_type": "code",
   "execution_count": 38,
   "metadata": {},
   "outputs": [
    {
     "ename": "TypeError",
     "evalue": "'NoneType' object is not callable",
     "output_type": "error",
     "traceback": [
      "\u001b[1;31m---------------------------------------------------------------------------\u001b[0m",
      "\u001b[1;31mTypeError\u001b[0m                                 Traceback (most recent call last)",
      "Cell \u001b[1;32mIn[38], line 44\u001b[0m\n\u001b[0;32m     41\u001b[0m \u001b[38;5;66;03m# it will return 3\u001b[39;00m\n\u001b[0;32m     43\u001b[0m \u001b[38;5;28;01mif\u001b[39;00m \u001b[38;5;18m__name__\u001b[39m \u001b[38;5;241m==\u001b[39m \u001b[38;5;124m'\u001b[39m\u001b[38;5;124m__main__\u001b[39m\u001b[38;5;124m'\u001b[39m:\n\u001b[1;32m---> 44\u001b[0m     \u001b[43mmain\u001b[49m\u001b[43m(\u001b[49m\u001b[43m)\u001b[49m\n\u001b[0;32m     45\u001b[0m \u001b[38;5;66;03m# it will return 3\u001b[39;00m\n",
      "Cell \u001b[1;32mIn[38], line 24\u001b[0m, in \u001b[0;36mmain\u001b[1;34m()\u001b[0m\n\u001b[0;32m     22\u001b[0m \u001b[38;5;28;01mdef\u001b[39;00m \u001b[38;5;21mmain\u001b[39m ():\n\u001b[0;32m     23\u001b[0m     returned_lambda \u001b[38;5;241m=\u001b[39m gen_lambda(\u001b[38;5;241m10\u001b[39m, \u001b[38;5;124m\"\u001b[39m\u001b[38;5;124meven\u001b[39m\u001b[38;5;124m\"\u001b[39m)\n\u001b[1;32m---> 24\u001b[0m     \u001b[43mreturned_lambda\u001b[49m\u001b[43m(\u001b[49m\u001b[43m[\u001b[49m\u001b[38;5;241;43m1\u001b[39;49m\u001b[43m,\u001b[49m\u001b[43m \u001b[49m\u001b[38;5;241;43m2\u001b[39;49m\u001b[43m,\u001b[49m\u001b[43m \u001b[49m\u001b[38;5;241;43m3\u001b[39;49m\u001b[43m,\u001b[49m\u001b[43m \u001b[49m\u001b[38;5;241;43m4\u001b[39;49m\u001b[43m,\u001b[49m\u001b[43m \u001b[49m\u001b[38;5;241;43m5\u001b[39;49m\u001b[43m,\u001b[49m\u001b[43m \u001b[49m\u001b[38;5;241;43m6\u001b[39;49m\u001b[43m,\u001b[49m\u001b[43m \u001b[49m\u001b[38;5;241;43m7\u001b[39;49m\u001b[43m,\u001b[49m\u001b[43m \u001b[49m\u001b[38;5;241;43m8\u001b[39;49m\u001b[43m,\u001b[49m\u001b[43m \u001b[49m\u001b[38;5;241;43m9\u001b[39;49m\u001b[43m,\u001b[49m\u001b[43m \u001b[49m\u001b[38;5;241;43m10\u001b[39;49m\u001b[43m]\u001b[49m\u001b[43m)\u001b[49m\n\u001b[0;32m     26\u001b[0m \u001b[38;5;66;03m# it will return [2, 4, 6, 8, 10]\u001b[39;00m\n\u001b[0;32m     28\u001b[0m     positive_lambda \u001b[38;5;241m=\u001b[39m gen_lambda(\u001b[38;5;241m10\u001b[39m, \u001b[38;5;124m\"\u001b[39m\u001b[38;5;124mpositive\u001b[39m\u001b[38;5;124m\"\u001b[39m)\n",
      "\u001b[1;31mTypeError\u001b[0m: 'NoneType' object is not callable"
     ]
    }
   ],
   "source": [
    "# complete the code to run the main function\n",
    "def gen_lambda(number, criteria):\n",
    "    if criteria == \"even\":\n",
    "        return lambda lst: [x for x in lst if x % 2 == 0]\n",
    "    ## complete the code for other criteria \n",
    "   \n",
    "def gen_lambda(number, criteria):\n",
    "    if criteria == \"positive\":\n",
    "        return lambda lst: [x for x in lst if x >= 1]\n",
    "    \n",
    "def gen_lambda(number, criteria):\n",
    "    if criteria == \"negative\":\n",
    "        return lambda lst: [x for x in lst if x <= -1]\n",
    "    \n",
    "def gen_lambda(number, criteria):\n",
    "    if criteria == \"zero\":\n",
    "        return lambda lst: [x for x in lst if x == 0]\n",
    "\n",
    "    ## complete the code for other criteria \n",
    "\n",
    "def main ():\n",
    "    returned_lambda = gen_lambda(10, \"even\")\n",
    "    returned_lambda([1, 2, 3, 4, 5, 6, 7, 8, 9, 10])\n",
    "\n",
    "# it will return [2, 4, 6, 8, 10]\n",
    "\n",
    "    positive_lambda = gen_lambda(10, \"positive\")\n",
    "    positive_lambda([1, 2, 3, 4, 5, 6, 7, 8, 9, 10])\n",
    "\n",
    "# it will return [1, 2, 3, 4, 5, 6, 7, 8, 9, 10]\n",
    "\n",
    "    negative_lambda = gen_lambda(10, \"negative\")\n",
    "    negative_lambda([1, 2, -3, 4, -5, -6, 7, 8, 9, 10])\n",
    "\n",
    "# it will return [-3, -5, -6]\n",
    "\n",
    "    zero_lambda = gen_lambda(10, \"zero\")\n",
    "    zero_lambda([1, 2, 3, 4, 0, 0, 7, 8, 9, 0])\n",
    "\n",
    "# it will return 3\n",
    "\n",
    "if __name__ == '__main__':\n",
    "    main()\n",
    "# it will return 3"
   ]
  },
  {
   "cell_type": "markdown",
   "metadata": {},
   "source": [
    "***"
   ]
  },
  {
   "cell_type": "markdown",
   "metadata": {},
   "source": [
    "#### Don't forget to <font color='red'> **\"commit\"** </font> your work or <font color='red'> **\"save\"** </font> in Google Colab before moving to the next section."
   ]
  },
  {
   "cell_type": "markdown",
   "metadata": {},
   "source": [
    "***\n",
    "\n",
    "## <p style=\"background-color: grey; color: white \"> ◼️  Algorithms </p>\n",
    "# <p style=\"font-family: Arial; font-size:1.4em;color:red;\"> 8. Algorithms Development with Functions </p>\n"
   ]
  },
  {
   "cell_type": "markdown",
   "metadata": {},
   "source": [
    "### Complete the following problems with funtions\n",
    "#### In this section, you can use the additional functions if you need."
   ]
  },
  {
   "cell_type": "markdown",
   "metadata": {},
   "source": [
    "***\n",
    "#### <p style=\"font-family: Arial; font-size:1.4em; background-color: yellow; color:black;\"> Problem #8.1 </p>\n",
    "\n",
    "<style>\n",
    "\tp {\n",
    "\t\tbackground-color: black;\n",
    "\t\tcolor: white;\n",
    "\t\tborder: 1px solid grey;\n",
    "\t\tfont-size: 30px;\n",
    "\t}\n",
    "</style>\n",
    "<p> Make a function that receives two lists and figure out which list has the greater median value. Return the list with the greater median value. </p>\n",
    "- The definition of median is the middle value in an ordered list of numbers. If the list has an even number of elements, the median is the average of the two middle numbers.\n",
    "- Example n1 = [1, 3, 2, 4, 5, 0] n2 = [1,2,3] <br>\n",
    "- The median of n1 is 2.5 and the median of n2 is 2. So the function should return n1 and 2.5 together.\n"
   ]
  },
  {
   "cell_type": "markdown",
   "metadata": {},
   "source": [
    "```\n",
    "def compare_median(lst1, lst2):\n",
    "    # Write your code here\n",
    "    return lst1, median1\n",
    "```\n",
    "\n",
    "#### Test the function\n",
    "```\n",
    "compare_median([1, 3, 2, 4, 5, 0], [1,2,3])\n",
    "```\n"
   ]
  },
  {
   "cell_type": "code",
   "execution_count": 4,
   "metadata": {},
   "outputs": [
    {
     "name": "stdout",
     "output_type": "stream",
     "text": [
      "[1, 3, 2, 4, 8, 7]\n"
     ]
    }
   ],
   "source": [
    "def compare_median(lst):\n",
    "    sorted_lst = sorted(lst)\n",
    "    length = len(sorted_lst)\n",
    "    middle = length // 2\n",
    "    if length % 2 == 0:\n",
    "        return (sorted_lst[middle - 1] + sorted_lst[middle]) // 2\n",
    "    else:\n",
    "        return sorted_lst[middle]\n",
    "\n",
    "def greater_median(list1, list2):\n",
    "    med1 = compare_median(list1)\n",
    "    med2 = compare_median(list2)\n",
    "    return list1 if med1 > med2 else list2\n",
    "\n",
    "list1 = [1,3,2,4,8,7]\n",
    "list2 = [1,2,3]\n",
    "print(greater_median(list1, list2))\n",
    "\n",
    "## Completed "
   ]
  },
  {
   "cell_type": "markdown",
   "metadata": {},
   "source": [
    "***\n",
    "#### <p style=\"font-family: Arial; font-size:1.4em; background-color: yellow; color:black;\"> Problem #8.2 </p>\n",
    "<style>\n",
    "\tp {\n",
    "\t\tbackground-color: black;\n",
    "\t\tcolor: white;\n",
    "\t\tborder: 1px solid grey;\n",
    "\t\tfont-size: 30px;\n",
    "\t}\n",
    "</style>\n",
    "<p> Make a function that receives a list of numbers and returns the second largest number in the list. </p>\n",
    "\n",
    "```\n",
    "Example:\n",
    " Input: [5, 2, 8, 1, 9, 3]\n",
    " Output: 8\n",
    " \n",
    " Note: If the list has less than two unique elements, the function should return None.\n",
    " ```\n",
    "\n",
    "\n",
    "\n",
    "```\n",
    "def second_largest(lst):\n",
    "    # Write your code here\n",
    "    return second_largest\n",
    "```\n",
    "\n",
    "##### Test the function\n",
    "```\n",
    "\n"
   ]
  },
  {
   "cell_type": "code",
   "execution_count": 11,
   "metadata": {},
   "outputs": [
    {
     "name": "stdout",
     "output_type": "stream",
     "text": [
      "7\n"
     ]
    }
   ],
   "source": [
    "def second_largest(lst1):\n",
    "    unique_lst = list(set(lst1))   # Use set function is to remove any iterables that repeat in the list.\n",
    "                                  # Set() command is desinged to set a sequence with unique elements in Python. \n",
    "    unique_lst.sort(reverse=True) # use sort() with the variable you would like to sort. \n",
    "    return unique_lst[1] if len(unique_lst) > 1 else None\n",
    "\n",
    "lst1 = [3,6,4,2,4,7,9,5,6,4,2]\n",
    "val = second_largest(lst1)\n",
    "print(val)\n",
    "\n",
    "## Completed "
   ]
  },
  {
   "cell_type": "markdown",
   "metadata": {},
   "source": [
    "***\n",
    "#### <p style=\"font-family: Arial; font-size:1.4em; background-color: yellow; color:black;\"> Problem #8.3 </p>\n",
    "<style>\n",
    "\tp {\n",
    "\t\tbackground-color: black;\n",
    "\t\tcolor: white;\n",
    "\t\tborder: 1px solid grey;\n",
    "\t\tfont-size: 30px;\n",
    "\t}\n",
    "</style>\n",
    "<p> Make a function that receives a list of tuples which contains two integers values and return a list of tuples where the second value of each tuple is greater than the first value. </p>\n",
    "\n",
    "```\n",
    "For example:\n",
    "numbers = [(4, 1), (3, 2), (5, 0), (2, 3), (1, 4), (6, -1), (0, 5), (7, 5), (8, 4), (9, 3), (10, 2), (11, 1), (12, 0), (13, -1), (14, -2), (15, -3)]\n",
    "Output = [(2,3), (1,4), (0,5)] \n",
    "\n",
    "##### Test the function\n",
    "numbers = [(4, 1), (3, 2), (5, 0), (2, 3), (1, 4)]\n",
    "filter_tuples(numbers)\n",
    "\n",
    "```\n",
    "\n"
   ]
  },
  {
   "cell_type": "code",
   "execution_count": 13,
   "metadata": {},
   "outputs": [
    {
     "name": "stdout",
     "output_type": "stream",
     "text": [
      "[(1, 3), (5, 7)]\n"
     ]
    }
   ],
   "source": [
    "def filter_tuples(numbers):\n",
    "    return[t for t in numbers if t[1] > t[0]]\n",
    "\n",
    "numbers = [(1, 3), (4, 2), (5, 7), (8, 6)]\n",
    "print(filter_tuples(numbers))\n",
    "\n",
    "## Completed "
   ]
  },
  {
   "cell_type": "markdown",
   "metadata": {},
   "source": [
    "***\n",
    "#### <p style=\"font-family: Arial; font-size:1.4em; background-color: yellow; color:black;\"> Problem #8.4 </p>\n",
    "<style>\n",
    "\tp {\n",
    "\t\tbackground-color: black;\n",
    "\t\tcolor: white;\n",
    "\t\tborder: 1px solid grey;\n",
    "\t\tfont-size: 30px;\n",
    "\t}\n",
    "</style>\n",
    "<p> Make a function that receives a list of tuples which contains two integers values and sort the list based on the gap of two values in each tuple. The tuple with the smallest gap should be the first one in the sorted list. If the gap is the same, then sort based on the first value in the tuple. </p>\n",
    "\n",
    "\n",
    "```\n",
    "For example:\n",
    "numbers = [(4, 1), (3, 2), (5, 0), (2, 3), (1, 4)]\n",
    "Output = [(3, 2), (2,3 ), (1,4), (4,1), (5,0)]\n",
    "\n",
    "\n",
    "##### Test the function\n",
    "sort_tuples(numbers)\n",
    "- Expected output: [(3, 2), (2,3 ), (1,4), (4,1), (5,0)]\n",
    "```\n",
    "\n"
   ]
  },
  {
   "cell_type": "code",
   "execution_count": 45,
   "metadata": {},
   "outputs": [
    {
     "name": "stdout",
     "output_type": "stream",
     "text": [
      "[(2, 3), (3, 2), (1, 4), (4, 1), (5, 0)]\n"
     ]
    }
   ],
   "source": [
    "def filter_tuples(tuples_list):\n",
    "    return sorted(tuples_list, key=lambda x: (abs(x[1] - x[0]), x[0]))\n",
    "\n",
    "tuples_list = [(4, 1), (3, 2), (5, 0), (2, 3), (1, 4)]\n",
    "val = filter_tuples(tuples_list)\n",
    "print(val)\n",
    "\n",
    "## Completed \n"
   ]
  },
  {
   "cell_type": "markdown",
   "metadata": {},
   "source": [
    "***\n",
    "#### <p style=\"font-family: Arial; font-size:1.4em; background-color: yellow; color:black;\"> Problem #8.5 </p>\n",
    "<style>\n",
    "\tp {\n",
    "\t\tcolor: white;\n",
    "\t\tborder: 1px solid grey;\n",
    "\t\tfont-size: 28;\n",
    "\t}\n",
    "</style>\n",
    "<p> Make a function that receives a string value and returns the encoded string by shifting each letter by \"seed\" value. </p>\n",
    "\n",
    "- If the letter is not a letter, then keep it as it is. \n",
    "- If the lettter + seed is greater than 'z', then wrap around to the beginning of the alphabet. \n",
    "\n",
    "```\n",
    "- For example, if the seed is 2, then 'a' will be 'c', 'b' will be 'd', ..., 'z' will be 'b'. \n",
    "\n",
    "##### Test the function\n",
    "```\n",
    "encode_string(\"hello\", 2) <br>\n",
    "The expected output is \"jgnnq\" \n",
    "```\n",
    "\n"
   ]
  },
  {
   "cell_type": "code",
   "execution_count": 50,
   "metadata": {},
   "outputs": [
    {
     "name": "stdout",
     "output_type": "stream",
     "text": [
      "khoor\n"
     ]
    }
   ],
   "source": [
    "def encode_str(s, seed):\n",
    "    encode_str = []\n",
    "    for char in s:\n",
    "        if char.isalpha():\n",
    "            shift = ord('a') if char.islower() else ord('A')\n",
    "            encode_str.append(chr((ord(char) - shift + seed) % 26 + shift))\n",
    "        else:\n",
    "            encode_str.append(char)\n",
    "    return ''.join(encode_str)\n",
    "\n",
    "s = \"hello\"\n",
    "seed = 3\n",
    "print(encode_str(s, seed))\n",
    "\n",
    "## Completed \n"
   ]
  },
  {
   "cell_type": "markdown",
   "metadata": {},
   "source": [
    "***"
   ]
  },
  {
   "cell_type": "markdown",
   "metadata": {},
   "source": [
    "***\n",
    "#### <p style=\"font-family: Arial; font-size:1.4em; background-color: yellow; color:black;\"> Problem #8.6 </p>\n",
    "<style>\n",
    " \tp {\n",
    " \t\tcolor: white;\n",
    " \t\tborder: 1px solid grey;\n",
    " \t\tfont-size: 28;\n",
    " \t}\n",
    "</style>\n",
    "<p> Make a function that takes a list of lists as input and performs the following operations: </p>\n",
    " \n",
    "1. Calculate the sum of each inner list\n",
    "2. Find the maximum sum among all inner lists\n",
    "3. Return a tuple containing:\n",
    "   a) The list of sums\n",
    "   b) The index of the inner list with the maximum sum\n",
    "   c) The maximum sum itself\n",
    " \n",
    "For example:\n",
    "```python\n",
    "input_list = [[1, 2, 3], [4, 5], [6, 7, 8, 9]]\n",
    "result = find_max_sum(input_list)\n",
    "print(result)\n",
    "Expected output: ([6, 9, 30], 2, 30)\n",
    "```\n",
    "\n",
    "##### Test the function\n",
    "```\n",
    "find_max_sum([[1, 2, 3], [4, 5], [6, 7, 8, 9]])\n",
    "The expected output is ([6, 9, 30], 2, 30)\n",
    "```\n",
    "\n"
   ]
  },
  {
   "cell_type": "code",
   "execution_count": null,
   "metadata": {},
   "outputs": [],
   "source": []
  },
  {
   "cell_type": "markdown",
   "metadata": {},
   "source": [
    "***"
   ]
  },
  {
   "cell_type": "markdown",
   "metadata": {},
   "source": [
    "<p style=\"font-family: Arial; font-size:1.4em; background-color: yellow; color:black;\"> Problem #8.7 </p>\n",
    "<style>\n",
    " \tp {\n",
    " \t\tcolor: white;\n",
    " \t\tborder: 1px solid grey;\n",
    " \t\tfont-size: 28;\n",
    " \t}\n",
    "</style>\n",
    "<p> Make a function that takes a list that contains a integer value and the size of the new sub list. The function returns a list of sub lists with the size of the new sub list. </p>\n",
    "\n",
    "- For example, if the input list is [1, 2, 3, 4, 5, 6, 7, 8, 9, 10] and the size of the new sub list is 3, the function returns [[1, 2, 3], [4, 5, 6], [7, 8, 9], [10]].\n",
    "- Another example, if the input list is [1, 2, 3, 4, 5, 6, 7, 8, 9, 10, 11] and the size of the new sub list is 6, the function returns [[1, 2, 3, 4, 5, 6], [7, 8, 9, 10, 11]].\n",
    "\n",
    "\n",
    "\n",
    "### Function call example, \n",
    "```\n",
    "sub_lists([1, 2, 3, 4, 5, 6, 7, 8, 9, 10], 3)\n",
    "```\n",
    "### Expected output: \n",
    "```\n",
    "[[1, 2, 3], [4, 5, 6], [7, 8, 9], [10]]\n",
    "```\n",
    "***\n",
    "\n",
    "\n"
   ]
  },
  {
   "cell_type": "code",
   "execution_count": 56,
   "metadata": {},
   "outputs": [
    {
     "name": "stdout",
     "output_type": "stream",
     "text": [
      "[[1, 2, 3], [4, 5, 6], [7, 8, 9], [10]]\n"
     ]
    }
   ],
   "source": [
    "def split_lst(lst, size):\n",
    "    return [lst[i:i + size] for i in range(0, len(lst), size)]\n",
    "\n",
    "lst = [1,2,3,4,5,6,7,8,9,10]\n",
    "size = 3\n",
    "print(split_lst(lst, size))\n",
    "\n",
    "## Completed \n"
   ]
  },
  {
   "cell_type": "markdown",
   "metadata": {},
   "source": [
    "***"
   ]
  },
  {
   "cell_type": "markdown",
   "metadata": {},
   "source": [
    "<p style=\"font-family: Arial; font-size:1.4em; background-color: yellow; color:black;\"> Problem #8.8 </p>\n",
    "<style>\n",
    " \tp {\n",
    " \t\tcolor: white;\n",
    " \t\tborder: 1px solid grey;\n",
    " \t\tfont-size: 28;\n",
    " \t}\n",
    "</style>\n",
    "<p> Make a function that takes a list of lists as input and performs the following operations: </p>\n",
    "\n",
    "- get the average of the length of the lists.\n",
    "- re-arrange the list based on the average\n",
    "- For example, if the input list is [[1, 2, 3], [4, 5], [6, 7, 8, 9]], the average of the length of the lists is 3.\n",
    "- The list will be rearranged to [[1, 2, 3], [4, 5, 6], [7, 8, 9]]\n",
    "- If the total number of elements is not divisible by the average, the last list will be shorter than the others. \n",
    "- For example, if the input list is [[1, 2, 3], [4, 5], [6, 7, 8, 9, 10]], the average of the length of the lists is 3.\n",
    "- The list will be rearranged to [[1, 2, 3], [4, 5, 6], [7, 8, 9], [10]].\n",
    "\n",
    "\n"
   ]
  },
  {
   "cell_type": "code",
   "execution_count": 53,
   "metadata": {},
   "outputs": [
    {
     "name": "stdout",
     "output_type": "stream",
     "text": [
      "[[1, 2, 3], [4, 5, 6], [7, 8, 9]]\n",
      "[[1, 2], [3, 4], [5, 6], [7]]\n"
     ]
    }
   ],
   "source": [
    "def rearrange_lists(lists):\n",
    "    flat_list = [item for sublist in lists for item in sublist]\n",
    "\n",
    "    avg_length = len(flat_list) // len(lists)\n",
    "\n",
    "    rearranged_list = [flat_list[i:i + avg_length] for i in range(0, len(flat_list), avg_length)]\n",
    "    return rearranged_list\n",
    "\n",
    "list_1 = [[1,2,3], [4,5], [6,7,8,9]]\n",
    "list_2 = [[1,2,3], [4,5], [6,7]]\n",
    "print(rearrange_lists(list_1))\n",
    "print(rearrange_lists(list_2))\n",
    "\n",
    "## Completed "
   ]
  },
  {
   "cell_type": "markdown",
   "metadata": {},
   "source": [
    "***"
   ]
  }
 ],
 "metadata": {
  "kernelspec": {
   "display_name": "Python 3",
   "language": "python",
   "name": "python3"
  },
  "language_info": {
   "codemirror_mode": {
    "name": "ipython",
    "version": 3
   },
   "file_extension": ".py",
   "mimetype": "text/x-python",
   "name": "python",
   "nbconvert_exporter": "python",
   "pygments_lexer": "ipython3",
   "version": "3.12.7"
  },
  "orig_nbformat": 4
 },
 "nbformat": 4,
 "nbformat_minor": 2
}
